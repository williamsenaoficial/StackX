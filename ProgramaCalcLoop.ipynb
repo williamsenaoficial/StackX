{
  "nbformat": 4,
  "nbformat_minor": 0,
  "metadata": {
    "colab": {
      "provenance": [],
      "authorship_tag": "ABX9TyORrd8HEyLGzdguhA/QuqZJ",
      "include_colab_link": true
    },
    "kernelspec": {
      "name": "python3",
      "display_name": "Python 3"
    },
    "language_info": {
      "name": "python"
    }
  },
  "cells": [
    {
      "cell_type": "markdown",
      "metadata": {
        "id": "view-in-github",
        "colab_type": "text"
      },
      "source": [
        "<a href=\"https://colab.research.google.com/github/williamsenaoficial/StackX/blob/main/ProgramaCalcLoop.ipynb\" target=\"_parent\"><img src=\"https://colab.research.google.com/assets/colab-badge.svg\" alt=\"Open In Colab\"/></a>"
      ]
    },
    {
      "cell_type": "markdown",
      "source": [
        "#Teste\n",
        "____"
      ],
      "metadata": {
        "id": "iaJfgOCLgUjy"
      }
    },
    {
      "cell_type": "code",
      "source": [
        "# Função que exibe o menu de operações\n",
        "def menu():\n",
        "    print(\"\\nEscolha a operação matemática que deseja realizar:\")\n",
        "    print(\"1. Adição (+)\")\n",
        "    print(\"2. Subtração (-)\")\n",
        "    print(\"3. Multiplicação (*)\")\n",
        "    print(\"4. Divisão (/)\")\n",
        "    print(\"5. Modulo (%)\")\n",
        "    print(\"6. Sair\")\n",
        "\n",
        "# Solicitando os números do usuário e convertendo para float\n",
        "num1 = float(input(\"Digite o primeiro número: \"))\n",
        "num2 = float(input(\"Digite o segundo número: \"))\n",
        "\n",
        "# Loop para permitir operações consecutivas\n",
        "while True:\n",
        "    menu()\n",
        "    escolha = input(\"\\nDigite o número da operação desejada: \")\n",
        "\n",
        "    if escolha == '1':\n",
        "        print(f\"\\nResultado da adição: {num1} + {num2} = {num1 + num2}\")\n",
        "    elif escolha == '2':\n",
        "      print(f\"\\nResultado da subtração: {num1} - {num2} = {num1 - num2}\")\n",
        "    elif escolha == '3':\n",
        "      print(f\"\\nResultado da multiplicação: {num1} * {num2} = {num1 * num2}\")\n",
        "    elif escolha == '4':\n",
        "      if num2 != 0:\n",
        "        print(f\"\\nResultado da divisão: {num1} / {num2} = {num1 / num2}\")\n",
        "      else:\n",
        "          print(\"\\nError por divisão zero não é permitida.\")\n",
        "    elif escolha == '5':\n",
        "      print(f\"\\nResultado da modulo: {num1} % {num2} = {num1 % num2}\")\n",
        "    elif escolha == '6':\n",
        "      print(\"\\nEncerrando o programa. Até mais.\")\n",
        "      break\n",
        "\n",
        "    else:\n",
        "      print(\"\\nEscolha errada, por favor tente novamente!\")"
      ],
      "metadata": {
        "colab": {
          "base_uri": "https://localhost:8080/"
        },
        "id": "vfggv_YYjnMZ",
        "outputId": "d5bdb1c9-5fec-4d2f-9735-7ac0b2dfcbcb"
      },
      "execution_count": 5,
      "outputs": [
        {
          "output_type": "stream",
          "name": "stdout",
          "text": [
            "Digite o primeiro número: 3000\n",
            "Digite o segundo número: 68106351\n",
            "\n",
            "Escolha a operação matemática que deseja realizar:\n",
            "1. Adição (+)\n",
            "2. Subtração (-)\n",
            "3. Multiplicação (*)\n",
            "4. Divisão (/)\n",
            "5. Modulo (%)\n",
            "6. Sair\n",
            "\n",
            "Digite o número da operação desejada: 3\n",
            "\n",
            "Resultado da multiplicação: 3000.0 * 68106351.0 = 204319053000.0\n",
            "\n",
            "Escolha a operação matemática que deseja realizar:\n",
            "1. Adição (+)\n",
            "2. Subtração (-)\n",
            "3. Multiplicação (*)\n",
            "4. Divisão (/)\n",
            "5. Modulo (%)\n",
            "6. Sair\n",
            "\n",
            "Digite o número da operação desejada: 6\n",
            "\n",
            "Encerrando o programa. Até mais.\n"
          ]
        }
      ]
    }
  ]
}