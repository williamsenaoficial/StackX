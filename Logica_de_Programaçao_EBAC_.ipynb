{
  "nbformat": 4,
  "nbformat_minor": 0,
  "metadata": {
    "colab": {
      "provenance": [],
      "authorship_tag": "ABX9TyMAQtM2Z/enAM2VHMOeamnc",
      "include_colab_link": true
    },
    "kernelspec": {
      "name": "python3",
      "display_name": "Python 3"
    },
    "language_info": {
      "name": "python"
    }
  },
  "cells": [
    {
      "cell_type": "markdown",
      "metadata": {
        "id": "view-in-github",
        "colab_type": "text"
      },
      "source": [
        "<a href=\"https://colab.research.google.com/github/williamsenaoficial/StackX/blob/main/Logica_de_Programa%C3%A7ao_EBAC_.ipynb\" target=\"_parent\"><img src=\"https://colab.research.google.com/assets/colab-badge.svg\" alt=\"Open In Colab\"/></a>"
      ]
    },
    {
      "cell_type": "markdown",
      "source": [
        "## Operadores Aritimetos\n",
        "___"
      ],
      "metadata": {
        "id": "fy5qotOpNCUO"
      }
    },
    {
      "cell_type": "code",
      "source": [
        "# Adição\n",
        "10 + 2"
      ],
      "metadata": {
        "colab": {
          "base_uri": "https://localhost:8080/"
        },
        "id": "ynnPe6O3Nwrc",
        "outputId": "74c2ad4a-35c9-42ee-c921-0d31ee48d170"
      },
      "execution_count": null,
      "outputs": [
        {
          "output_type": "execute_result",
          "data": {
            "text/plain": [
              "12"
            ]
          },
          "metadata": {},
          "execution_count": 14
        }
      ]
    },
    {
      "cell_type": "code",
      "source": [
        "# Subtração\n",
        "10 - 2"
      ],
      "metadata": {
        "colab": {
          "base_uri": "https://localhost:8080/"
        },
        "id": "pUfxyPtTOIew",
        "outputId": "39e76566-d7f9-4367-aea6-526e883329b6"
      },
      "execution_count": null,
      "outputs": [
        {
          "output_type": "execute_result",
          "data": {
            "text/plain": [
              "8"
            ]
          },
          "metadata": {},
          "execution_count": 13
        }
      ]
    },
    {
      "cell_type": "code",
      "source": [
        "# Multiplicação\n",
        "10 * 2"
      ],
      "metadata": {
        "colab": {
          "base_uri": "https://localhost:8080/"
        },
        "id": "zicHa0KZOOmt",
        "outputId": "03706fed-0aad-40f5-896a-0f402e12ad37"
      },
      "execution_count": null,
      "outputs": [
        {
          "output_type": "execute_result",
          "data": {
            "text/plain": [
              "20"
            ]
          },
          "metadata": {},
          "execution_count": 12
        }
      ]
    },
    {
      "cell_type": "code",
      "source": [
        "# Divisão\n",
        "10 / 2"
      ],
      "metadata": {
        "colab": {
          "base_uri": "https://localhost:8080/"
        },
        "id": "ZAeiYDdeOUqU",
        "outputId": "7afd8ec8-b046-43d1-9e0d-083822a6783a"
      },
      "execution_count": null,
      "outputs": [
        {
          "output_type": "execute_result",
          "data": {
            "text/plain": [
              "5.0"
            ]
          },
          "metadata": {},
          "execution_count": 11
        }
      ]
    },
    {
      "cell_type": "code",
      "source": [
        "# Divisão inteira\n",
        "10 // 2"
      ],
      "metadata": {
        "colab": {
          "base_uri": "https://localhost:8080/"
        },
        "id": "BNY_ck_6Oh-K",
        "outputId": "6606689d-f58d-4e6a-90c7-3c3f4d920f83"
      },
      "execution_count": null,
      "outputs": [
        {
          "output_type": "execute_result",
          "data": {
            "text/plain": [
              "5"
            ]
          },
          "metadata": {},
          "execution_count": 10
        }
      ]
    },
    {
      "cell_type": "code",
      "source": [
        "# Resto da divisão\n",
        "10 % 2"
      ],
      "metadata": {
        "colab": {
          "base_uri": "https://localhost:8080/"
        },
        "id": "UG2QoLDwOnO_",
        "outputId": "c564d22f-f6a5-468a-f4e4-91c861437861"
      },
      "execution_count": null,
      "outputs": [
        {
          "output_type": "execute_result",
          "data": {
            "text/plain": [
              "0"
            ]
          },
          "metadata": {},
          "execution_count": 9
        }
      ]
    },
    {
      "cell_type": "code",
      "source": [
        "# Potenciação\n",
        "10 ** 2"
      ],
      "metadata": {
        "colab": {
          "base_uri": "https://localhost:8080/"
        },
        "id": "20IwWRRfOsPQ",
        "outputId": "178ae032-2d05-4a33-c75b-b7bdbc0bc208"
      },
      "execution_count": null,
      "outputs": [
        {
          "output_type": "execute_result",
          "data": {
            "text/plain": [
              "100"
            ]
          },
          "metadata": {},
          "execution_count": 8
        }
      ]
    },
    {
      "cell_type": "markdown",
      "source": [
        "## Operadores Relacionais\n",
        "___"
      ],
      "metadata": {
        "id": "GgFS3envOxb4"
      }
    },
    {
      "cell_type": "code",
      "source": [
        "# Menor\n",
        "10 < 2"
      ],
      "metadata": {
        "colab": {
          "base_uri": "https://localhost:8080/"
        },
        "id": "U0aD0qYOPMV2",
        "outputId": "72c71973-7c5a-4868-846e-797ebd55129c"
      },
      "execution_count": null,
      "outputs": [
        {
          "output_type": "execute_result",
          "data": {
            "text/plain": [
              "False"
            ]
          },
          "metadata": {},
          "execution_count": 7
        }
      ]
    },
    {
      "cell_type": "code",
      "source": [
        "# Menor ou igual\n",
        "10 <= 2"
      ],
      "metadata": {
        "colab": {
          "base_uri": "https://localhost:8080/"
        },
        "id": "oKSlphe3PQOa",
        "outputId": "73d81385-eba9-488f-bcc3-57ab48843d3f"
      },
      "execution_count": null,
      "outputs": [
        {
          "output_type": "execute_result",
          "data": {
            "text/plain": [
              "False"
            ]
          },
          "metadata": {},
          "execution_count": 6
        }
      ]
    },
    {
      "cell_type": "code",
      "source": [
        "# Maior\n",
        "10 > 2"
      ],
      "metadata": {
        "colab": {
          "base_uri": "https://localhost:8080/"
        },
        "id": "KcrCe2Z4PS3p",
        "outputId": "cf74f8de-276c-45b1-806f-acce0a263352"
      },
      "execution_count": null,
      "outputs": [
        {
          "output_type": "execute_result",
          "data": {
            "text/plain": [
              "True"
            ]
          },
          "metadata": {},
          "execution_count": 5
        }
      ]
    },
    {
      "cell_type": "code",
      "source": [
        "# Maior ou igual\n",
        "10 >= 2"
      ],
      "metadata": {
        "colab": {
          "base_uri": "https://localhost:8080/"
        },
        "id": "erWMXctXPlph",
        "outputId": "2d232265-5bd0-4bdd-8d13-083357c0629a"
      },
      "execution_count": null,
      "outputs": [
        {
          "output_type": "execute_result",
          "data": {
            "text/plain": [
              "True"
            ]
          },
          "metadata": {},
          "execution_count": 4
        }
      ]
    },
    {
      "cell_type": "code",
      "source": [
        "# Igual\n",
        "7 == 7"
      ],
      "metadata": {
        "colab": {
          "base_uri": "https://localhost:8080/"
        },
        "id": "0XLBO3TBPqbK",
        "outputId": "9376b059-3a86-4747-9854-35d529364802"
      },
      "execution_count": null,
      "outputs": [
        {
          "output_type": "execute_result",
          "data": {
            "text/plain": [
              "True"
            ]
          },
          "metadata": {},
          "execution_count": 3
        }
      ]
    },
    {
      "cell_type": "code",
      "source": [
        "# Diferente\n",
        "7 != 7"
      ],
      "metadata": {
        "colab": {
          "base_uri": "https://localhost:8080/"
        },
        "id": "HoIU0qrvPzRn",
        "outputId": "d37e50a4-f195-49e5-a2d1-aa46c8ecc1e1"
      },
      "execution_count": null,
      "outputs": [
        {
          "output_type": "execute_result",
          "data": {
            "text/plain": [
              "False"
            ]
          },
          "metadata": {},
          "execution_count": 2
        }
      ]
    },
    {
      "cell_type": "markdown",
      "source": [
        "## Operadores Lógicos\n",
        "___\n",
        "\n",
        "* And\n",
        "* Or\n",
        "* Not\n"
      ],
      "metadata": {
        "id": "75iRTyvnQD5L"
      }
    },
    {
      "cell_type": "markdown",
      "source": [
        "###Tabela Verdade\n",
        "\n",
        "And"
      ],
      "metadata": {
        "id": "RtZbF6sDQgzz"
      }
    },
    {
      "cell_type": "code",
      "source": [
        "print(10 > 2 and 4 < 6)     # V and V - V\n",
        "print(10 > 2 and 4 > 6)     # V and V - F\n",
        "print(10 < 2 and 4 < 6)     # V and V - F\n",
        "print(10 < 2 and 4 > 6)     # V and V - F"
      ],
      "metadata": {
        "id": "llKBXHCtQpqm",
        "colab": {
          "base_uri": "https://localhost:8080/"
        },
        "outputId": "52b2b0c7-d8a8-46fe-fbed-c727def06357"
      },
      "execution_count": null,
      "outputs": [
        {
          "output_type": "stream",
          "name": "stdout",
          "text": [
            "True\n",
            "False\n",
            "False\n",
            "False\n"
          ]
        }
      ]
    },
    {
      "cell_type": "markdown",
      "source": [
        "Or"
      ],
      "metadata": {
        "id": "gpS5vhTeRKil"
      }
    },
    {
      "cell_type": "code",
      "source": [
        "print(10 > 2 or 4 < 6)     # V or V - V\n",
        "print(10 > 2 or 4 > 6)     # V or V - V\n",
        "print(10 < 2 or 4 < 6)     # V or V - V\n",
        "print(10 < 2 or 4 > 6)     # V or V - F"
      ],
      "metadata": {
        "id": "7PKUvRZSRMjL",
        "colab": {
          "base_uri": "https://localhost:8080/"
        },
        "outputId": "540d5797-398c-45ec-fbf2-2b54fd5e0857"
      },
      "execution_count": null,
      "outputs": [
        {
          "output_type": "stream",
          "name": "stdout",
          "text": [
            "True\n",
            "True\n",
            "True\n",
            "False\n"
          ]
        }
      ]
    },
    {
      "cell_type": "markdown",
      "source": [
        "Not"
      ],
      "metadata": {
        "id": "ASkD_mhNRpZk"
      }
    },
    {
      "cell_type": "code",
      "source": [
        "not 10 > 2     # V -F"
      ],
      "metadata": {
        "id": "trx-J5hJRrUZ",
        "colab": {
          "base_uri": "https://localhost:8080/"
        },
        "outputId": "8901092d-d2fa-4515-b349-6ed8edc66dab"
      },
      "execution_count": null,
      "outputs": [
        {
          "output_type": "execute_result",
          "data": {
            "text/plain": [
              "False"
            ]
          },
          "metadata": {},
          "execution_count": 15
        }
      ]
    },
    {
      "cell_type": "code",
      "source": [
        "not 10 < 2     # F -V"
      ],
      "metadata": {
        "id": "Wd9qPPdwR0EC",
        "colab": {
          "base_uri": "https://localhost:8080/"
        },
        "outputId": "d2cb2757-8c6c-4be3-cf24-6c905fce59cb"
      },
      "execution_count": null,
      "outputs": [
        {
          "output_type": "execute_result",
          "data": {
            "text/plain": [
              "True"
            ]
          },
          "metadata": {},
          "execution_count": 16
        }
      ]
    },
    {
      "cell_type": "markdown",
      "source": [
        "##Variáveis\n",
        "___\n",
        "Variaveis estão alocadas em espaços na memória"
      ],
      "metadata": {
        "id": "wN0ernjsR8OG"
      }
    },
    {
      "cell_type": "code",
      "source": [
        "# Nome da variavel é \"x\" que armazena o valor 10 em um espaço na memória\n",
        "x = 10\n",
        "\n",
        "print(x) # Utilizar a referencia no nome atribuido"
      ],
      "metadata": {
        "id": "_U48zLkRSKqJ",
        "colab": {
          "base_uri": "https://localhost:8080/"
        },
        "outputId": "6b8e1242-5d1a-44a5-a0e7-4524936fc7a5"
      },
      "execution_count": null,
      "outputs": [
        {
          "output_type": "stream",
          "name": "stdout",
          "text": [
            "10\n"
          ]
        }
      ]
    },
    {
      "cell_type": "markdown",
      "source": [
        "Regras\n",
        "\n",
        "####Case Sensitive\n",
        "\n",
        "A != a\n",
        "\n",
        "####Boas Práticas com Variaveis\n",
        "\n",
        "> Exemplo: Multiplicação de 2 números\n",
        "\n",
        "Não usar\n",
        "\n",
        "* Multiplicação\n",
        "* MultiplicacaoDeDoisNumeros\n",
        "* m\n",
        "\n",
        "Usar\n",
        "\n",
        "* multplicacao\n",
        "* mult\n",
        "* mult_total (snake_case)\n",
        "\n",
        "\n",
        "\n"
      ],
      "metadata": {
        "id": "sjdRtWi-Y0UP"
      }
    },
    {
      "cell_type": "markdown",
      "source": [
        "###Visualização de Variáveis e texto\n",
        "___"
      ],
      "metadata": {
        "id": "K02t2StYJLf9"
      }
    },
    {
      "cell_type": "code",
      "source": [
        "print(\"Conhecendo o comando Print\")\n",
        "\n",
        "x = 8\n",
        "print(x)"
      ],
      "metadata": {
        "id": "TtabOWIHJYjS",
        "colab": {
          "base_uri": "https://localhost:8080/"
        },
        "outputId": "a034b07a-d69d-42fb-b061-7780aebb83e4"
      },
      "execution_count": null,
      "outputs": [
        {
          "output_type": "stream",
          "name": "stdout",
          "text": [
            "Conhecendo o comando Print\n",
            "8\n"
          ]
        }
      ]
    },
    {
      "cell_type": "markdown",
      "source": [
        "\n"
      ],
      "metadata": {
        "id": "AhCcKofpJhX-"
      }
    },
    {
      "cell_type": "code",
      "source": [
        "y = 10\n",
        "soma = x + y\n",
        "print(soma)"
      ],
      "metadata": {
        "id": "a1JS_lYIJn__",
        "colab": {
          "base_uri": "https://localhost:8080/"
        },
        "outputId": "064f28e1-b38a-4082-e652-afd597184170"
      },
      "execution_count": null,
      "outputs": [
        {
          "output_type": "stream",
          "name": "stdout",
          "text": [
            "18\n"
          ]
        }
      ]
    },
    {
      "cell_type": "code",
      "source": [
        "nome = 'William Sena'\n",
        "print(nome)"
      ],
      "metadata": {
        "id": "fulKK8EiJyGF",
        "colab": {
          "base_uri": "https://localhost:8080/"
        },
        "outputId": "1d1c565f-9c2d-43fe-ad00-cffe25f8e070"
      },
      "execution_count": null,
      "outputs": [
        {
          "output_type": "stream",
          "name": "stdout",
          "text": [
            "William Sena\n"
          ]
        }
      ]
    },
    {
      "cell_type": "markdown",
      "source": [
        "####Concatenação"
      ],
      "metadata": {
        "id": "jA5t1pWRJ_KK"
      }
    },
    {
      "cell_type": "code",
      "source": [
        "x = 5\n",
        "print('O valor de x é', x)"
      ],
      "metadata": {
        "id": "riAY69GyKLQS",
        "colab": {
          "base_uri": "https://localhost:8080/"
        },
        "outputId": "1219b1d0-94f1-414c-923d-90f1a2832b5e"
      },
      "execution_count": null,
      "outputs": [
        {
          "output_type": "stream",
          "name": "stdout",
          "text": [
            "O valor de x é 5\n"
          ]
        }
      ]
    },
    {
      "cell_type": "code",
      "source": [
        "print('O valor de x é', x, 'e o dobro é', x * 2)"
      ],
      "metadata": {
        "id": "tjVk7CQzKl5H",
        "colab": {
          "base_uri": "https://localhost:8080/"
        },
        "outputId": "d6e7f197-0a6b-4712-b845-218659f743a9"
      },
      "execution_count": null,
      "outputs": [
        {
          "output_type": "stream",
          "name": "stdout",
          "text": [
            "O valor de x é 5 e o dobro é 10\n"
          ]
        }
      ]
    },
    {
      "cell_type": "code",
      "source": [
        "print('Eu,', nome, 'tirei', x, 'na prova de Python')"
      ],
      "metadata": {
        "id": "UMc1UO1NKyfX",
        "colab": {
          "base_uri": "https://localhost:8080/"
        },
        "outputId": "ef5c27c3-f522-451e-c318-30603a81f58f"
      },
      "execution_count": null,
      "outputs": [
        {
          "output_type": "stream",
          "name": "stdout",
          "text": [
            "Eu, William Sena tirei 5 na prova de Python\n"
          ]
        }
      ]
    },
    {
      "cell_type": "code",
      "source": [
        "y = 10; z = 20 + x - y\n",
        "\n",
        "print('Declarar várias variáveis na mesma linha: ', y, z)"
      ],
      "metadata": {
        "colab": {
          "base_uri": "https://localhost:8080/"
        },
        "id": "i5hxdf6gK9SE",
        "outputId": "39a9887d-cd91-41e0-fab7-91f253cce48e"
      },
      "execution_count": null,
      "outputs": [
        {
          "output_type": "stream",
          "name": "stdout",
          "text": [
            "Declarar várias variáveis na mesma linha:  10 15\n"
          ]
        }
      ]
    },
    {
      "cell_type": "markdown",
      "source": [
        "####Type"
      ],
      "metadata": {
        "id": "pOlr7A1rMc3B"
      }
    },
    {
      "cell_type": "code",
      "source": [
        "x = 10\n",
        "type(x)\n",
        "print('x', type(x))\n",
        "\n",
        "nome = '100'\n",
        "print('nome', type(nome))\n",
        "\n",
        "num = '100'\n",
        "num_convert = int(num)   # converter variavel\n",
        "print('num', type(num))\n",
        "print('num_conver', type(num_convert))\n",
        "\n",
        "num_float = float(num)\n",
        "print('num_float', num_float)"
      ],
      "metadata": {
        "colab": {
          "base_uri": "https://localhost:8080/"
        },
        "id": "d5NeY-BfMh7o",
        "outputId": "0eb3aa9e-3a7f-4f90-88e1-060a88ed61a5"
      },
      "execution_count": null,
      "outputs": [
        {
          "output_type": "stream",
          "name": "stdout",
          "text": [
            "x <class 'int'>\n",
            "nome <class 'str'>\n",
            "num <class 'str'>\n",
            "num_conver <class 'int'>\n",
            "num_float 100.0\n"
          ]
        }
      ]
    },
    {
      "cell_type": "markdown",
      "source": [
        "####Input\n",
        "\n",
        "* Armazenar a informação digitada pelo usuário em uma variável\n",
        "* O dado armazenado sempre será u texto"
      ],
      "metadata": {
        "id": "KQILJdPVOG65"
      }
    },
    {
      "cell_type": "code",
      "source": [
        "nome = input('Digite o nome do usuário  ') # Aguarda o usuário digitar o alto\n",
        "print(nome)"
      ],
      "metadata": {
        "colab": {
          "base_uri": "https://localhost:8080/"
        },
        "id": "PgAO4LnkObOR",
        "outputId": "3c9a9ab6-c55f-4f46-bc38-747df23ed6bd"
      },
      "execution_count": null,
      "outputs": [
        {
          "output_type": "stream",
          "name": "stdout",
          "text": [
            "Digite o nome do usuário  William Sena\n",
            "William Sena\n"
          ]
        }
      ]
    },
    {
      "cell_type": "code",
      "source": [
        "valor = input('Digite a nota  ')\n",
        "\n",
        "print(nome, 'Sua nota foi', valor  )"
      ],
      "metadata": {
        "colab": {
          "base_uri": "https://localhost:8080/"
        },
        "id": "2sBWgolRO11Y",
        "outputId": "c056de90-00aa-4fbc-cdf9-e27ad319ea59"
      },
      "execution_count": null,
      "outputs": [
        {
          "output_type": "stream",
          "name": "stdout",
          "text": [
            "Digite a nota  50\n",
            "William Sena Sua nota foi 50\n"
          ]
        }
      ]
    },
    {
      "cell_type": "code",
      "source": [
        "valor = input('Digite o valor do produto:  ')\n",
        "print(valor)"
      ],
      "metadata": {
        "colab": {
          "base_uri": "https://localhost:8080/"
        },
        "id": "9oVFI0dWPJgL",
        "outputId": "c6218766-659d-4054-8e0c-6fa83a7aa932"
      },
      "execution_count": null,
      "outputs": [
        {
          "output_type": "stream",
          "name": "stdout",
          "text": [
            "Digite o valor do produto:  100\n",
            "100\n"
          ]
        }
      ]
    },
    {
      "cell_type": "code",
      "source": [
        "desconto = valor - 5"
      ],
      "metadata": {
        "colab": {
          "base_uri": "https://localhost:8080/",
          "height": 141
        },
        "id": "OxTAAId1PWlX",
        "outputId": "39abacf9-1b44-4d8f-9d93-a746ad1679e0"
      },
      "execution_count": null,
      "outputs": [
        {
          "output_type": "error",
          "ename": "TypeError",
          "evalue": "unsupported operand type(s) for -: 'str' and 'int'",
          "traceback": [
            "\u001b[0;31m---------------------------------------------------------------------------\u001b[0m",
            "\u001b[0;31mTypeError\u001b[0m                                 Traceback (most recent call last)",
            "\u001b[0;32m<ipython-input-8-4693ea9a50ed>\u001b[0m in \u001b[0;36m<cell line: 1>\u001b[0;34m()\u001b[0m\n\u001b[0;32m----> 1\u001b[0;31m \u001b[0mdesconto\u001b[0m \u001b[0;34m=\u001b[0m \u001b[0mvalor\u001b[0m \u001b[0;34m-\u001b[0m \u001b[0;36m5\u001b[0m\u001b[0;34m\u001b[0m\u001b[0;34m\u001b[0m\u001b[0m\n\u001b[0m",
            "\u001b[0;31mTypeError\u001b[0m: unsupported operand type(s) for -: 'str' and 'int'"
          ]
        }
      ]
    },
    {
      "cell_type": "code",
      "source": [
        "valor_convet = int(valor)\n",
        "desconto = valor_convet - 5\n",
        "print(desconto)"
      ],
      "metadata": {
        "colab": {
          "base_uri": "https://localhost:8080/"
        },
        "id": "GHp9aOicQQZM",
        "outputId": "15916db4-f482-4d82-9125-96d29479ee27"
      },
      "execution_count": null,
      "outputs": [
        {
          "output_type": "stream",
          "name": "stdout",
          "text": [
            "95\n"
          ]
        }
      ]
    },
    {
      "cell_type": "code",
      "source": [
        "desconto = int(valor) - 5\n",
        "print(desconto)"
      ],
      "metadata": {
        "colab": {
          "base_uri": "https://localhost:8080/"
        },
        "id": "FgivrWAgQtT6",
        "outputId": "c5c9dd34-4bcd-4180-fbc8-dc99a1bb17e0"
      },
      "execution_count": null,
      "outputs": [
        {
          "output_type": "stream",
          "name": "stdout",
          "text": [
            "95\n"
          ]
        }
      ]
    },
    {
      "cell_type": "markdown",
      "source": [
        "###Condicional"
      ],
      "metadata": {
        "id": "u6QbZ2eWZkBq"
      }
    },
    {
      "cell_type": "code",
      "source": [
        "# if\n",
        "if 5 < 10:\n",
        "  print('Verdade')"
      ],
      "metadata": {
        "colab": {
          "base_uri": "https://localhost:8080/"
        },
        "id": "YYjtUPzhZpys",
        "outputId": "812baa7b-e235-418d-9dee-93deb9004417"
      },
      "execution_count": null,
      "outputs": [
        {
          "output_type": "stream",
          "name": "stdout",
          "text": [
            "Verdade\n"
          ]
        }
      ]
    },
    {
      "cell_type": "code",
      "source": [
        "# if/else\n",
        "num1 = 10\n",
        "num2 = 5\n",
        "if num1 > num2:\n",
        "  print( 'num1 é maior número')\n",
        "\n",
        "else:\n",
        "  print('num2 é o maior número')\n"
      ],
      "metadata": {
        "colab": {
          "base_uri": "https://localhost:8080/"
        },
        "id": "CFCIh0z0Z8p2",
        "outputId": "8e4eebab-272a-49c7-8427-26b643929c0c"
      },
      "execution_count": null,
      "outputs": [
        {
          "output_type": "stream",
          "name": "stdout",
          "text": [
            "num1 é maior número\n"
          ]
        }
      ]
    },
    {
      "cell_type": "code",
      "source": [
        "# if / elif / else\n",
        "num1 = 5\n",
        "num2 = 10\n",
        "if num > num2:\n",
        "  print('O num1 é maior número')\n",
        "elif num1 < num2:\n",
        "  print('O num2 é o maior número')\n",
        "else:\n",
        "  print('Os dois são iguais')"
      ],
      "metadata": {
        "colab": {
          "base_uri": "https://localhost:8080/"
        },
        "id": "9WNWUzUDacDh",
        "outputId": "8010916a-4561-4e8b-c6f5-a666f5caf210"
      },
      "execution_count": null,
      "outputs": [
        {
          "output_type": "stream",
          "name": "stdout",
          "text": [
            "O num2 é o maior número\n"
          ]
        }
      ]
    },
    {
      "cell_type": "markdown",
      "source": [
        "###Condicional comoperadores lógicos"
      ],
      "metadata": {
        "id": "jvFum9GebR3A"
      }
    },
    {
      "cell_type": "code",
      "source": [
        "num1 = 10\n",
        "num2 = 45\n",
        "num3 = 25\n",
        "if (num1 < num2) and (num1 < num3):\n",
        "  print('O num1 é o maior número')\n",
        "else:\n",
        "  print('o num1 não é o maior número')"
      ],
      "metadata": {
        "colab": {
          "base_uri": "https://localhost:8080/"
        },
        "id": "nD6fNBLYbY4X",
        "outputId": "9254fd34-0649-4929-9f45-4178c40806be"
      },
      "execution_count": null,
      "outputs": [
        {
          "output_type": "stream",
          "name": "stdout",
          "text": [
            "O num1 é o maior número\n"
          ]
        }
      ]
    },
    {
      "cell_type": "markdown",
      "source": [
        "###Lista, duplas e dicionários\n",
        "___"
      ],
      "metadata": {
        "id": "-4fi163B1WCA"
      }
    },
    {
      "cell_type": "code",
      "source": [
        "# Lista\n",
        "[1,2,3,4,5]"
      ],
      "metadata": {
        "id": "cYnioL2U1iUj"
      },
      "execution_count": null,
      "outputs": []
    },
    {
      "cell_type": "code",
      "source": [
        "# Tupla\n",
        "(1,2,3,4,5)"
      ],
      "metadata": {
        "id": "DM2ipVwj1qLk"
      },
      "execution_count": null,
      "outputs": []
    },
    {
      "cell_type": "code",
      "source": [
        "# Dicionários\n",
        "{'num1': 1, 'num2': 2}"
      ],
      "metadata": {
        "id": "JStWlBYY1uVC"
      },
      "execution_count": null,
      "outputs": []
    },
    {
      "cell_type": "markdown",
      "source": [
        "###Lista"
      ],
      "metadata": {
        "id": "8n0e_NLy15R4"
      }
    },
    {
      "cell_type": "code",
      "source": [
        "lista = [5, 'William', 8.9]"
      ],
      "metadata": {
        "id": "cpDIhPtC19eq"
      },
      "execution_count": null,
      "outputs": []
    },
    {
      "cell_type": "code",
      "source": [
        "type(lista)"
      ],
      "metadata": {
        "id": "jSSy9WUy3Nbn"
      },
      "execution_count": null,
      "outputs": []
    },
    {
      "cell_type": "code",
      "source": [
        "lista.append('Augusto') # Adicionar um elemento na lista"
      ],
      "metadata": {
        "id": "GTdoLAFy3U7f"
      },
      "execution_count": null,
      "outputs": []
    },
    {
      "cell_type": "code",
      "source": [
        "print(lista)\n",
        "print(lista[1])"
      ],
      "metadata": {
        "colab": {
          "base_uri": "https://localhost:8080/"
        },
        "id": "RSqt5IKO3lGN",
        "outputId": "807be811-2518-47fa-d6d5-7f5df11b7fc1"
      },
      "execution_count": null,
      "outputs": [
        {
          "output_type": "stream",
          "name": "stdout",
          "text": [
            "[5, 'William', 8.9, 'Augusto']\n",
            "William\n"
          ]
        }
      ]
    },
    {
      "cell_type": "markdown",
      "source": [
        "####Tupla"
      ],
      "metadata": {
        "id": "VDKJrNxC4uPq"
      }
    },
    {
      "cell_type": "code",
      "source": [
        "tupla = (5, 'William', 8.9)"
      ],
      "metadata": {
        "id": "XVV6kkOe4wKg"
      },
      "execution_count": null,
      "outputs": []
    },
    {
      "cell_type": "code",
      "source": [
        "type(tupla)"
      ],
      "metadata": {
        "colab": {
          "base_uri": "https://localhost:8080/"
        },
        "id": "8lQWhALo48xj",
        "outputId": "446f2d50-e0ef-4436-c815-c9b0e5c9d9d0"
      },
      "execution_count": null,
      "outputs": [
        {
          "output_type": "execute_result",
          "data": {
            "text/plain": [
              "tuple"
            ]
          },
          "metadata": {},
          "execution_count": 12
        }
      ]
    },
    {
      "cell_type": "code",
      "source": [
        "tupla.append('Augusto')"
      ],
      "metadata": {
        "colab": {
          "base_uri": "https://localhost:8080/",
          "height": 141
        },
        "id": "GXAWLvIv5CQf",
        "outputId": "2d96cac0-8d0c-4732-b389-b4d7d7020343"
      },
      "execution_count": null,
      "outputs": [
        {
          "output_type": "error",
          "ename": "AttributeError",
          "evalue": "'tuple' object has no attribute 'append'",
          "traceback": [
            "\u001b[0;31m---------------------------------------------------------------------------\u001b[0m",
            "\u001b[0;31mAttributeError\u001b[0m                            Traceback (most recent call last)",
            "\u001b[0;32m<ipython-input-13-8e747b695909>\u001b[0m in \u001b[0;36m<cell line: 1>\u001b[0;34m()\u001b[0m\n\u001b[0;32m----> 1\u001b[0;31m \u001b[0mtupla\u001b[0m\u001b[0;34m.\u001b[0m\u001b[0mappend\u001b[0m\u001b[0;34m(\u001b[0m\u001b[0;34m'Augusto'\u001b[0m\u001b[0;34m)\u001b[0m\u001b[0;34m\u001b[0m\u001b[0;34m\u001b[0m\u001b[0m\n\u001b[0m",
            "\u001b[0;31mAttributeError\u001b[0m: 'tuple' object has no attribute 'append'"
          ]
        }
      ]
    },
    {
      "cell_type": "code",
      "source": [
        "print(tupla)"
      ],
      "metadata": {
        "id": "P0VmIdnm5GbK"
      },
      "execution_count": null,
      "outputs": []
    },
    {
      "cell_type": "markdown",
      "source": [
        "####Dicionário"
      ],
      "metadata": {
        "id": "WxTyZw4P5TfK"
      }
    },
    {
      "cell_type": "code",
      "source": [
        "dicionario = {'nome': 'William', 'cidade': 'Salvador Bahia'}"
      ],
      "metadata": {
        "id": "hXZKCIjY5Vy6"
      },
      "execution_count": null,
      "outputs": []
    },
    {
      "cell_type": "code",
      "source": [
        "type(dicionario)"
      ],
      "metadata": {
        "colab": {
          "base_uri": "https://localhost:8080/"
        },
        "id": "pLBYY3B45io6",
        "outputId": "ab640f2a-91c4-41df-c135-57d7c97ca9c2"
      },
      "execution_count": null,
      "outputs": [
        {
          "output_type": "execute_result",
          "data": {
            "text/plain": [
              "dict"
            ]
          },
          "metadata": {},
          "execution_count": 18
        }
      ]
    },
    {
      "cell_type": "code",
      "source": [
        "print(dicionario)"
      ],
      "metadata": {
        "colab": {
          "base_uri": "https://localhost:8080/"
        },
        "id": "SrT_k3Wd5ody",
        "outputId": "850793cb-c436-4e1a-bf27-4f17e3a7cfc0"
      },
      "execution_count": null,
      "outputs": [
        {
          "output_type": "stream",
          "name": "stdout",
          "text": [
            "{'nome': 'William', 'cidade': 'Salvador Bahia'}\n"
          ]
        }
      ]
    },
    {
      "cell_type": "code",
      "source": [
        "print(dicionario['nome'])"
      ],
      "metadata": {
        "colab": {
          "base_uri": "https://localhost:8080/"
        },
        "id": "SwS5ZwPU5q7t",
        "outputId": "835de1bc-e5fa-4a3b-8491-d1dc69ac3e9b"
      },
      "execution_count": null,
      "outputs": [
        {
          "output_type": "stream",
          "name": "stdout",
          "text": [
            "William\n"
          ]
        }
      ]
    },
    {
      "cell_type": "code",
      "source": [
        "dicionario['ultimo_nome'] = 'Sena'"
      ],
      "metadata": {
        "id": "cKTFhVfT5x6s"
      },
      "execution_count": null,
      "outputs": []
    },
    {
      "cell_type": "code",
      "source": [
        "print(dicionario)"
      ],
      "metadata": {
        "colab": {
          "base_uri": "https://localhost:8080/"
        },
        "id": "q2jlgxp16As-",
        "outputId": "84c5c5b2-d353-4af1-8a54-c13545e189d8"
      },
      "execution_count": null,
      "outputs": [
        {
          "output_type": "stream",
          "name": "stdout",
          "text": [
            "{'nome': 'William', 'cidade': 'Salvador Bahia', 'ultimo_nome': 'Sena'}\n"
          ]
        }
      ]
    },
    {
      "cell_type": "markdown",
      "source": [
        "##Estrutura de repetição\n",
        "_______"
      ],
      "metadata": {
        "id": "uVx7hzRmJazA"
      }
    },
    {
      "cell_type": "markdown",
      "source": [
        "####For"
      ],
      "metadata": {
        "id": "m79leDCNJnyI"
      }
    },
    {
      "cell_type": "code",
      "source": [
        "# For Range\n",
        "for contador in range(10):\n",
        "  print(contador)"
      ],
      "metadata": {
        "colab": {
          "base_uri": "https://localhost:8080/"
        },
        "id": "E4aPOQD4Jxjj",
        "outputId": "ec7ad129-722a-4541-fefc-af95abac9a4f"
      },
      "execution_count": 1,
      "outputs": [
        {
          "output_type": "stream",
          "name": "stdout",
          "text": [
            "0\n",
            "1\n",
            "2\n",
            "3\n",
            "4\n",
            "5\n",
            "6\n",
            "7\n",
            "8\n",
            "9\n"
          ]
        }
      ]
    },
    {
      "cell_type": "code",
      "source": [
        "# For Range + Break\n",
        "for contador in range(1000):\n",
        "  print(contador)\n",
        "  if contador == 2:\n",
        "    break"
      ],
      "metadata": {
        "colab": {
          "base_uri": "https://localhost:8080/"
        },
        "id": "1wWQDMEHJ6_k",
        "outputId": "33c5b817-c961-44dd-82c3-d9889abcc3c0"
      },
      "execution_count": 5,
      "outputs": [
        {
          "output_type": "stream",
          "name": "stdout",
          "text": [
            "0\n",
            "1\n",
            "2\n"
          ]
        }
      ]
    },
    {
      "cell_type": "code",
      "source": [
        "lista = ['Teste1', 'Teste2']"
      ],
      "metadata": {
        "id": "3NtngzWfKPKi"
      },
      "execution_count": 6,
      "outputs": []
    },
    {
      "cell_type": "code",
      "source": [
        "# For Simples\n",
        "for val in lista:\n",
        "  print(val)"
      ],
      "metadata": {
        "colab": {
          "base_uri": "https://localhost:8080/"
        },
        "id": "AZxfoaU8KY_1",
        "outputId": "91130af2-9ad7-4bd6-97b1-da0c6f16a5e9"
      },
      "execution_count": 7,
      "outputs": [
        {
          "output_type": "stream",
          "name": "stdout",
          "text": [
            "Teste1\n",
            "Teste2\n"
          ]
        }
      ]
    },
    {
      "cell_type": "code",
      "source": [
        "# For com Enumerate\n",
        "for i, val in enumerate(lista):\n",
        "  print(i, val)"
      ],
      "metadata": {
        "colab": {
          "base_uri": "https://localhost:8080/"
        },
        "id": "ae8C3TcmKhZ6",
        "outputId": "3ecc1d89-1d02-44ba-bba7-245e1d5f9114"
      },
      "execution_count": 9,
      "outputs": [
        {
          "output_type": "stream",
          "name": "stdout",
          "text": [
            "0 Teste1\n",
            "1 Teste2\n"
          ]
        }
      ]
    },
    {
      "cell_type": "markdown",
      "source": [
        "### For com operadores compostos"
      ],
      "metadata": {
        "id": "-Vi1IdN7LKOl"
      }
    },
    {
      "cell_type": "code",
      "source": [
        "lista2 = [2, 3, 4]"
      ],
      "metadata": {
        "id": "QbR3WWv1Nv7W"
      },
      "execution_count": null,
      "outputs": []
    },
    {
      "cell_type": "code",
      "source": [
        "for val in lista2:\n",
        "  val += 1\n",
        "  print(val)"
      ],
      "metadata": {
        "id": "pJXPBlvFN1Bj"
      },
      "execution_count": null,
      "outputs": []
    },
    {
      "cell_type": "code",
      "source": [
        "for val in lista2:\n",
        "  val *= 2\n",
        "  print(val)"
      ],
      "metadata": {
        "id": "5TKV5plXN7ol"
      },
      "execution_count": null,
      "outputs": []
    },
    {
      "cell_type": "markdown",
      "source": [
        "### While"
      ],
      "metadata": {
        "id": "ffYe3WKVOD0g"
      }
    },
    {
      "cell_type": "code",
      "source": [
        "val = 1\n",
        "while (val < 6):\n",
        "  val *= 2\n",
        "  print(val)"
      ],
      "metadata": {
        "colab": {
          "base_uri": "https://localhost:8080/"
        },
        "id": "rga0ajWPOO9H",
        "outputId": "b3584279-d468-47bb-a7f3-5255baefff7d"
      },
      "execution_count": 10,
      "outputs": [
        {
          "output_type": "stream",
          "name": "stdout",
          "text": [
            "2\n",
            "4\n",
            "8\n"
          ]
        }
      ]
    },
    {
      "cell_type": "code",
      "source": [
        "# Whale com Else\n",
        "val = 100\n",
        "while val < 882:\n",
        "  val *=2\n",
        "else:\n",
        "    print('Vaor de val é', val)"
      ],
      "metadata": {
        "colab": {
          "base_uri": "https://localhost:8080/"
        },
        "id": "mt9Xi4D1Oo6a",
        "outputId": "b46065e7-58a6-4133-ee3d-f7537e705474"
      },
      "execution_count": 17,
      "outputs": [
        {
          "output_type": "stream",
          "name": "stdout",
          "text": [
            "Vaor de val é 1600\n"
          ]
        }
      ]
    }
  ]
}